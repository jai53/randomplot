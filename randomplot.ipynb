{
  "nbformat": 4,
  "nbformat_minor": 0,
  "metadata": {
    "colab": {
      "name": "randomberplot.ipynb",
      "version": "0.3.2",
      "provenance": [],
      "collapsed_sections": []
    },
    "kernelspec": {
      "name": "python3",
      "display_name": "Python 3"
    }
  },
  "cells": [
    {
      "metadata": {
        "id": "iXlx0IP-ie1h",
        "colab_type": "code",
        "colab": {}
      },
      "cell_type": "code",
      "source": [
        "import numpy as np"
      ],
      "execution_count": 0,
      "outputs": []
    },
    {
      "metadata": {
        "id": "aRhvQUIDi008",
        "colab_type": "code",
        "colab": {}
      },
      "cell_type": "code",
      "source": [
        "import pandas as pd"
      ],
      "execution_count": 0,
      "outputs": []
    },
    {
      "metadata": {
        "id": "Qx2GRmlCi-Yy",
        "colab_type": "code",
        "colab": {}
      },
      "cell_type": "code",
      "source": [
        "import matplotlib.pyplot as pt"
      ],
      "execution_count": 0,
      "outputs": []
    },
    {
      "metadata": {
        "id": "6gCrjTBQjIL7",
        "colab_type": "code",
        "colab": {}
      },
      "cell_type": "code",
      "source": [
        "from sklearn.preprocessing import MinMaxScaler"
      ],
      "execution_count": 0,
      "outputs": []
    },
    {
      "metadata": {
        "id": "EqknfYzRljn1",
        "colab_type": "code",
        "colab": {}
      },
      "cell_type": "code",
      "source": [
        "from sklearn.model_selection import train_test_split"
      ],
      "execution_count": 0,
      "outputs": []
    },
    {
      "metadata": {
        "id": "xAufd_6QmBI9",
        "colab_type": "code",
        "colab": {}
      },
      "cell_type": "code",
      "source": [
        "mat=np.random.randint(0,100,(10,10))"
      ],
      "execution_count": 0,
      "outputs": []
    },
    {
      "metadata": {
        "id": "wHu5qnmvmVPb",
        "colab_type": "code",
        "colab": {
          "base_uri": "https://localhost:8080/",
          "height": 187
        },
        "outputId": "117ce955-4ae4-4be3-b6f8-b36c204f4f21"
      },
      "cell_type": "code",
      "source": [
        "mat"
      ],
      "execution_count": 10,
      "outputs": [
        {
          "output_type": "execute_result",
          "data": {
            "text/plain": [
              "array([[63, 82, 93, 65, 87, 19, 27, 62, 79, 82],\n",
              "       [63, 75, 70, 12, 17,  3, 39, 81, 12, 72],\n",
              "       [37, 17, 65, 61, 49, 81,  5, 42, 68, 84],\n",
              "       [ 9, 28, 14, 35, 28, 91, 27, 70, 75, 28],\n",
              "       [48, 41, 12, 40, 96, 10, 54, 47,  7, 13],\n",
              "       [72, 55, 77, 14, 60, 67, 79, 11, 60, 84],\n",
              "       [ 7, 84, 66, 53, 59, 78, 88, 17, 20,  1],\n",
              "       [79, 65, 55, 50, 23, 55, 42, 76, 19, 69],\n",
              "       [11,  9, 21, 99, 53, 95,  2, 80, 47, 55],\n",
              "       [21, 75, 61, 98, 97, 20, 60, 37, 82, 82]])"
            ]
          },
          "metadata": {
            "tags": []
          },
          "execution_count": 10
        }
      ]
    },
    {
      "metadata": {
        "id": "8ImIA7iKmeli",
        "colab_type": "code",
        "colab": {
          "base_uri": "https://localhost:8080/",
          "height": 282
        },
        "outputId": "30997826-534d-48b6-ceb6-a49011b14a84"
      },
      "cell_type": "code",
      "source": [
        " %matplotlib inline\n",
        " pt.imshow(mat,cmap='RdYlGn')"
      ],
      "execution_count": 14,
      "outputs": [
        {
          "output_type": "execute_result",
          "data": {
            "text/plain": [
              "<matplotlib.image.AxesImage at 0x7fdd4185dc88>"
            ]
          },
          "metadata": {
            "tags": []
          },
          "execution_count": 14
        },
        {
          "output_type": "display_data",
          "data": {
            "image/png": "[encoded data removed]",
            "text/plain": [
              "<Figure size 432x288 with 1 Axes>"
            ]
          },
          "metadata": {
            "tags": []
          }
        }
      ]
    },
    {
      "metadata": {
        "id": "aWIk_Sd9nUMO",
        "colab_type": "code",
        "colab": {}
      },
      "cell_type": "code",
      "source": [
        "data=pd.DataFrame(data=mat)"
      ],
      "execution_count": 0,
      "outputs": []
    },
    {
      "metadata": {
        "id": "X6iYLfoImlt4",
        "colab_type": "code",
        "colab": {
          "base_uri": "https://localhost:8080/",
          "height": 359
        },
        "outputId": "84ff32fc-2c9e-4031-dcb2-88725a5ec4c0"
      },
      "cell_type": "code",
      "source": [
        "data"
      ],
      "execution_count": 18,
      "outputs": [
        {
          "output_type": "execute_result",
          "data": {
            "text/html": [
              "<div>\n",
              "<style scoped>\n",
              "    .dataframe tbody tr th:only-of-type {\n",
              "        vertical-align: middle;\n",
              "    }\n",
              "\n",
              "    .dataframe tbody tr th {\n",
              "        vertical-align: top;\n",
              "    }\n",
              "\n",
              "    .dataframe thead th {\n",
              "        text-align: right;\n",
              "    }\n",
              "</style>\n",
              "<table border=\"1\" class=\"dataframe\">\n",
              "  <thead>\n",
              "    <tr style=\"text-align: right;\">\n",
              "      <th></th>\n",
              "      <th>0</th>\n",
              "      <th>1</th>\n",
              "      <th>2</th>\n",
              "      <th>3</th>\n",
              "      <th>4</th>\n",
              "      <th>5</th>\n",
              "      <th>6</th>\n",
              "      <th>7</th>\n",
              "      <th>8</th>\n",
              "      <th>9</th>\n",
              "    </tr>\n",
              "  </thead>\n",
              "  <tbody>\n",
              "    <tr>\n",
              "      <th>0</th>\n",
              "      <td>63</td>\n",
              "      <td>82</td>\n",
              "      <td>93</td>\n",
              "      <td>65</td>\n",
              "      <td>87</td>\n",
              "      <td>19</td>\n",
              "      <td>27</td>\n",
              "      <td>62</td>\n",
              "      <td>79</td>\n",
              "      <td>82</td>\n",
              "    </tr>\n",
              "    <tr>\n",
              "      <th>1</th>\n",
              "      <td>63</td>\n",
              "      <td>75</td>\n",
              "      <td>70</td>\n",
              "      <td>12</td>\n",
              "      <td>17</td>\n",
              "      <td>3</td>\n",
              "      <td>39</td>\n",
              "      <td>81</td>\n",
              "      <td>12</td>\n",
              "      <td>72</td>\n",
              "    </tr>\n",
              "    <tr>\n",
              "      <th>2</th>\n",
              "      <td>37</td>\n",
              "      <td>17</td>\n",
              "      <td>65</td>\n",
              "      <td>61</td>\n",
              "      <td>49</td>\n",
              "      <td>81</td>\n",
              "      <td>5</td>\n",
              "      <td>42</td>\n",
              "      <td>68</td>\n",
              "      <td>84</td>\n",
              "    </tr>\n",
              "    <tr>\n",
              "      <th>3</th>\n",
              "      <td>9</td>\n",
              "      <td>28</td>\n",
              "      <td>14</td>\n",
              "      <td>35</td>\n",
              "      <td>28</td>\n",
              "      <td>91</td>\n",
              "      <td>27</td>\n",
              "      <td>70</td>\n",
              "      <td>75</td>\n",
              "      <td>28</td>\n",
              "    </tr>\n",
              "    <tr>\n",
              "      <th>4</th>\n",
              "      <td>48</td>\n",
              "      <td>41</td>\n",
              "      <td>12</td>\n",
              "      <td>40</td>\n",
              "      <td>96</td>\n",
              "      <td>10</td>\n",
              "      <td>54</td>\n",
              "      <td>47</td>\n",
              "      <td>7</td>\n",
              "      <td>13</td>\n",
              "    </tr>\n",
              "    <tr>\n",
              "      <th>5</th>\n",
              "      <td>72</td>\n",
              "      <td>55</td>\n",
              "      <td>77</td>\n",
              "      <td>14</td>\n",
              "      <td>60</td>\n",
              "      <td>67</td>\n",
              "      <td>79</td>\n",
              "      <td>11</td>\n",
              "      <td>60</td>\n",
              "      <td>84</td>\n",
              "    </tr>\n",
              "    <tr>\n",
              "      <th>6</th>\n",
              "      <td>7</td>\n",
              "      <td>84</td>\n",
              "      <td>66</td>\n",
              "      <td>53</td>\n",
              "      <td>59</td>\n",
              "      <td>78</td>\n",
              "      <td>88</td>\n",
              "      <td>17</td>\n",
              "      <td>20</td>\n",
              "      <td>1</td>\n",
              "    </tr>\n",
              "    <tr>\n",
              "      <th>7</th>\n",
              "      <td>79</td>\n",
              "      <td>65</td>\n",
              "      <td>55</td>\n",
              "      <td>50</td>\n",
              "      <td>23</td>\n",
              "      <td>55</td>\n",
              "      <td>42</td>\n",
              "      <td>76</td>\n",
              "      <td>19</td>\n",
              "      <td>69</td>\n",
              "    </tr>\n",
              "    <tr>\n",
              "      <th>8</th>\n",
              "      <td>11</td>\n",
              "      <td>9</td>\n",
              "      <td>21</td>\n",
              "      <td>99</td>\n",
              "      <td>53</td>\n",
              "      <td>95</td>\n",
              "      <td>2</td>\n",
              "      <td>80</td>\n",
              "      <td>47</td>\n",
              "      <td>55</td>\n",
              "    </tr>\n",
              "    <tr>\n",
              "      <th>9</th>\n",
              "      <td>21</td>\n",
              "      <td>75</td>\n",
              "      <td>61</td>\n",
              "      <td>98</td>\n",
              "      <td>97</td>\n",
              "      <td>20</td>\n",
              "      <td>60</td>\n",
              "      <td>37</td>\n",
              "      <td>82</td>\n",
              "      <td>82</td>\n",
              "    </tr>\n",
              "  </tbody>\n",
              "</table>\n",
              "</div>"
            ],
            "text/plain": [
              "    0   1   2   3   4   5   6   7   8   9\n",
              "0  63  82  93  65  87  19  27  62  79  82\n",
              "1  63  75  70  12  17   3  39  81  12  72\n",
              "2  37  17  65  61  49  81   5  42  68  84\n",
              "3   9  28  14  35  28  91  27  70  75  28\n",
              "4  48  41  12  40  96  10  54  47   7  13\n",
              "5  72  55  77  14  60  67  79  11  60  84\n",
              "6   7  84  66  53  59  78  88  17  20   1\n",
              "7  79  65  55  50  23  55  42  76  19  69\n",
              "8  11   9  21  99  53  95   2  80  47  55\n",
              "9  21  75  61  98  97  20  60  37  82  82"
            ]
          },
          "metadata": {
            "tags": []
          },
          "execution_count": 18
        }
      ]
    },
    {
      "metadata": {
        "id": "EqFGq7q9rYeS",
        "colab_type": "code",
        "colab": {
          "base_uri": "https://localhost:8080/",
          "height": 333
        },
        "outputId": "8df32071-e235-4852-fcc0-9ed70940dea5"
      },
      "cell_type": "code",
      "source": [
        "data.plot(x=0,y=1,kind='scatter')"
      ],
      "execution_count": 21,
      "outputs": [
        {
          "output_type": "stream",
          "text": [
            "'c' argument looks like a single numeric RGB or RGBA sequence, which should be avoided as value-mapping will have precedence in case its length matches with 'x' & 'y'.  Please use a 2-D array with a single row if you really want to specify the same RGB or RGBA value for all points.\n"
          ],
          "name": "stderr"
        },
        {
          "output_type": "execute_result",
          "data": {
            "text/plain": [
              "<matplotlib.axes._subplots.AxesSubplot at 0x7fdd4152e470>"
            ]
          },
          "metadata": {
            "tags": []
          },
          "execution_count": 21
        },
        {
          "output_type": "display_data",
          "data": {
            "image/png": "[encoded data removed]",
            "text/plain": [
              "<Figure size 432x288 with 1 Axes>"
            ]
          },
          "metadata": {
            "tags": []
          }
        }
      ]
    },
    {
      "metadata": {
        "id": "fDdpbKz4rqSB",
        "colab_type": "code",
        "colab": {}
      },
      "cell_type": "code",
      "source": [
        "scaler=MinMaxScaler()"
      ],
      "execution_count": 0,
      "outputs": []
    },
    {
      "metadata": {
        "id": "0wp3zxIOry5c",
        "colab_type": "code",
        "colab": {
          "base_uri": "https://localhost:8080/",
          "height": 71
        },
        "outputId": "790393ce-14d7-41a2-deda-d0341319d1c3"
      },
      "cell_type": "code",
      "source": [
        "result=scaler.fit_transform(mat)"
      ],
      "execution_count": 23,
      "outputs": [
        {
          "output_type": "stream",
          "text": [
            "/usr/local/lib/python3.6/dist-packages/sklearn/utils/validation.py:595: DataConversionWarning: Data with input dtype int64 was converted to float64 by MinMaxScaler.\n",
            "  warnings.warn(msg, DataConversionWarning)\n"
          ],
          "name": "stderr"
        }
      ]
    },
    {
      "metadata": {
        "id": "ogvU-eSSsALJ",
        "colab_type": "code",
        "colab": {
          "base_uri": "https://localhost:8080/",
          "height": 357
        },
        "outputId": "9e285eb7-75e2-4830-e78f-8b1ddf629486"
      },
      "cell_type": "code",
      "source": [
        "result"
      ],
      "execution_count": 24,
      "outputs": [
        {
          "output_type": "execute_result",
          "data": {
            "text/plain": [
              "array([[0.77777778, 0.97333333, 1.        , 0.6091954 , 0.875     ,\n",
              "        0.17391304, 0.29069767, 0.72857143, 0.96      , 0.97590361],\n",
              "       [0.77777778, 0.88      , 0.71604938, 0.        , 0.        ,\n",
              "        0.        , 0.43023256, 1.        , 0.06666667, 0.85542169],\n",
              "       [0.41666667, 0.10666667, 0.65432099, 0.56321839, 0.4       ,\n",
              "        0.84782609, 0.03488372, 0.44285714, 0.81333333, 1.        ],\n",
              "       [0.02777778, 0.25333333, 0.02469136, 0.26436782, 0.1375    ,\n",
              "        0.95652174, 0.29069767, 0.84285714, 0.90666667, 0.3253012 ],\n",
              "       [0.56944444, 0.42666667, 0.        , 0.32183908, 0.9875    ,\n",
              "        0.07608696, 0.60465116, 0.51428571, 0.        , 0.14457831],\n",
              "       [0.90277778, 0.61333333, 0.80246914, 0.02298851, 0.5375    ,\n",
              "        0.69565217, 0.89534884, 0.        , 0.70666667, 1.        ],\n",
              "       [0.        , 1.        , 0.66666667, 0.47126437, 0.525     ,\n",
              "        0.81521739, 1.        , 0.08571429, 0.17333333, 0.        ],\n",
              "       [1.        , 0.74666667, 0.5308642 , 0.43678161, 0.075     ,\n",
              "        0.56521739, 0.46511628, 0.92857143, 0.16      , 0.81927711],\n",
              "       [0.05555556, 0.        , 0.11111111, 1.        , 0.45      ,\n",
              "        1.        , 0.        , 0.98571429, 0.53333333, 0.65060241],\n",
              "       [0.19444444, 0.88      , 0.60493827, 0.98850575, 1.        ,\n",
              "        0.18478261, 0.6744186 , 0.37142857, 1.        , 0.97590361]])"
            ]
          },
          "metadata": {
            "tags": []
          },
          "execution_count": 24
        }
      ]
    },
    {
      "metadata": {
        "id": "qhssTqf8sVq7",
        "colab_type": "code",
        "colab": {}
      },
      "cell_type": "code",
      "source": [
        "data.columns=['a','b','c','d','e','f','g','h','i','g']"
      ],
      "execution_count": 0,
      "outputs": []
    },
    {
      "metadata": {
        "id": "SMh3iGcNtRxO",
        "colab_type": "code",
        "colab": {
          "base_uri": "https://localhost:8080/",
          "height": 359
        },
        "outputId": "de97c997-cea3-4364-c9d5-df0555ca9a1f"
      },
      "cell_type": "code",
      "source": [
        "data"
      ],
      "execution_count": 27,
      "outputs": [
        {
          "output_type": "execute_result",
          "data": {
            "text/html": [
              "<div>\n",
              "<style scoped>\n",
              "    .dataframe tbody tr th:only-of-type {\n",
              "        vertical-align: middle;\n",
              "    }\n",
              "\n",
              "    .dataframe tbody tr th {\n",
              "        vertical-align: top;\n",
              "    }\n",
              "\n",
              "    .dataframe thead th {\n",
              "        text-align: right;\n",
              "    }\n",
              "</style>\n",
              "<table border=\"1\" class=\"dataframe\">\n",
              "  <thead>\n",
              "    <tr style=\"text-align: right;\">\n",
              "      <th></th>\n",
              "      <th>a</th>\n",
              "      <th>b</th>\n",
              "      <th>c</th>\n",
              "      <th>d</th>\n",
              "      <th>e</th>\n",
              "      <th>f</th>\n",
              "      <th>g</th>\n",
              "      <th>h</th>\n",
              "      <th>i</th>\n",
              "      <th>g</th>\n",
              "    </tr>\n",
              "  </thead>\n",
              "  <tbody>\n",
              "    <tr>\n",
              "      <th>0</th>\n",
              "      <td>63</td>\n",
              "      <td>82</td>\n",
              "      <td>93</td>\n",
              "      <td>65</td>\n",
              "      <td>87</td>\n",
              "      <td>19</td>\n",
              "      <td>27</td>\n",
              "      <td>62</td>\n",
              "      <td>79</td>\n",
              "      <td>82</td>\n",
              "    </tr>\n",
              "    <tr>\n",
              "      <th>1</th>\n",
              "      <td>63</td>\n",
              "      <td>75</td>\n",
              "      <td>70</td>\n",
              "      <td>12</td>\n",
              "      <td>17</td>\n",
              "      <td>3</td>\n",
              "      <td>39</td>\n",
              "      <td>81</td>\n",
              "      <td>12</td>\n",
              "      <td>72</td>\n",
              "    </tr>\n",
              "    <tr>\n",
              "      <th>2</th>\n",
              "      <td>37</td>\n",
              "      <td>17</td>\n",
              "      <td>65</td>\n",
              "      <td>61</td>\n",
              "      <td>49</td>\n",
              "      <td>81</td>\n",
              "      <td>5</td>\n",
              "      <td>42</td>\n",
              "      <td>68</td>\n",
              "      <td>84</td>\n",
              "    </tr>\n",
              "    <tr>\n",
              "      <th>3</th>\n",
              "      <td>9</td>\n",
              "      <td>28</td>\n",
              "      <td>14</td>\n",
              "      <td>35</td>\n",
              "      <td>28</td>\n",
              "      <td>91</td>\n",
              "      <td>27</td>\n",
              "      <td>70</td>\n",
              "      <td>75</td>\n",
              "      <td>28</td>\n",
              "    </tr>\n",
              "    <tr>\n",
              "      <th>4</th>\n",
              "      <td>48</td>\n",
              "      <td>41</td>\n",
              "      <td>12</td>\n",
              "      <td>40</td>\n",
              "      <td>96</td>\n",
              "      <td>10</td>\n",
              "      <td>54</td>\n",
              "      <td>47</td>\n",
              "      <td>7</td>\n",
              "      <td>13</td>\n",
              "    </tr>\n",
              "    <tr>\n",
              "      <th>5</th>\n",
              "      <td>72</td>\n",
              "      <td>55</td>\n",
              "      <td>77</td>\n",
              "      <td>14</td>\n",
              "      <td>60</td>\n",
              "      <td>67</td>\n",
              "      <td>79</td>\n",
              "      <td>11</td>\n",
              "      <td>60</td>\n",
              "      <td>84</td>\n",
              "    </tr>\n",
              "    <tr>\n",
              "      <th>6</th>\n",
              "      <td>7</td>\n",
              "      <td>84</td>\n",
              "      <td>66</td>\n",
              "      <td>53</td>\n",
              "      <td>59</td>\n",
              "      <td>78</td>\n",
              "      <td>88</td>\n",
              "      <td>17</td>\n",
              "      <td>20</td>\n",
              "      <td>1</td>\n",
              "    </tr>\n",
              "    <tr>\n",
              "      <th>7</th>\n",
              "      <td>79</td>\n",
              "      <td>65</td>\n",
              "      <td>55</td>\n",
              "      <td>50</td>\n",
              "      <td>23</td>\n",
              "      <td>55</td>\n",
              "      <td>42</td>\n",
              "      <td>76</td>\n",
              "      <td>19</td>\n",
              "      <td>69</td>\n",
              "    </tr>\n",
              "    <tr>\n",
              "      <th>8</th>\n",
              "      <td>11</td>\n",
              "      <td>9</td>\n",
              "      <td>21</td>\n",
              "      <td>99</td>\n",
              "      <td>53</td>\n",
              "      <td>95</td>\n",
              "      <td>2</td>\n",
              "      <td>80</td>\n",
              "      <td>47</td>\n",
              "      <td>55</td>\n",
              "    </tr>\n",
              "    <tr>\n",
              "      <th>9</th>\n",
              "      <td>21</td>\n",
              "      <td>75</td>\n",
              "      <td>61</td>\n",
              "      <td>98</td>\n",
              "      <td>97</td>\n",
              "      <td>20</td>\n",
              "      <td>60</td>\n",
              "      <td>37</td>\n",
              "      <td>82</td>\n",
              "      <td>82</td>\n",
              "    </tr>\n",
              "  </tbody>\n",
              "</table>\n",
              "</div>"
            ],
            "text/plain": [
              "    a   b   c   d   e   f   g   h   i   g\n",
              "0  63  82  93  65  87  19  27  62  79  82\n",
              "1  63  75  70  12  17   3  39  81  12  72\n",
              "2  37  17  65  61  49  81   5  42  68  84\n",
              "3   9  28  14  35  28  91  27  70  75  28\n",
              "4  48  41  12  40  96  10  54  47   7  13\n",
              "5  72  55  77  14  60  67  79  11  60  84\n",
              "6   7  84  66  53  59  78  88  17  20   1\n",
              "7  79  65  55  50  23  55  42  76  19  69\n",
              "8  11   9  21  99  53  95   2  80  47  55\n",
              "9  21  75  61  98  97  20  60  37  82  82"
            ]
          },
          "metadata": {
            "tags": []
          },
          "execution_count": 27
        }
      ]
    },
    {
      "metadata": {
        "id": "92q9MaJ1tfWo",
        "colab_type": "code",
        "colab": {}
      },
      "cell_type": "code",
      "source": [
        "x=data[['a','b','c','d','e','f','g','h','i']]"
      ],
      "execution_count": 0,
      "outputs": []
    },
    {
      "metadata": {
        "id": "vFLiWNBvtsk_",
        "colab_type": "code",
        "colab": {}
      },
      "cell_type": "code",
      "source": [
        "y=data[['g']]"
      ],
      "execution_count": 0,
      "outputs": []
    },
    {
      "metadata": {
        "id": "F75bGPyzt65f",
        "colab_type": "code",
        "colab": {}
      },
      "cell_type": "code",
      "source": [
        " X_train, X_test, y_train, y_test = train_test_split(\n",
        "...     x, y, test_size=0.33, random_state=42)"
      ],
      "execution_count": 0,
      "outputs": []
    },
    {
      "metadata": {
        "id": "wxiPR7u3u01f",
        "colab_type": "code",
        "colab": {
          "base_uri": "https://localhost:8080/",
          "height": 173
        },
        "outputId": "b15a8f2d-8ca4-4939-e736-294cac932273"
      },
      "cell_type": "code",
      "source": [
        "X_test"
      ],
      "execution_count": 34,
      "outputs": [
        {
          "output_type": "execute_result",
          "data": {
            "text/html": [
              "<div>\n",
              "<style scoped>\n",
              "    .dataframe tbody tr th:only-of-type {\n",
              "        vertical-align: middle;\n",
              "    }\n",
              "\n",
              "    .dataframe tbody tr th {\n",
              "        vertical-align: top;\n",
              "    }\n",
              "\n",
              "    .dataframe thead th {\n",
              "        text-align: right;\n",
              "    }\n",
              "</style>\n",
              "<table border=\"1\" class=\"dataframe\">\n",
              "  <thead>\n",
              "    <tr style=\"text-align: right;\">\n",
              "      <th></th>\n",
              "      <th>a</th>\n",
              "      <th>b</th>\n",
              "      <th>c</th>\n",
              "      <th>d</th>\n",
              "      <th>e</th>\n",
              "      <th>f</th>\n",
              "      <th>g</th>\n",
              "      <th>g</th>\n",
              "      <th>h</th>\n",
              "      <th>i</th>\n",
              "    </tr>\n",
              "  </thead>\n",
              "  <tbody>\n",
              "    <tr>\n",
              "      <th>8</th>\n",
              "      <td>11</td>\n",
              "      <td>9</td>\n",
              "      <td>21</td>\n",
              "      <td>99</td>\n",
              "      <td>53</td>\n",
              "      <td>95</td>\n",
              "      <td>2</td>\n",
              "      <td>55</td>\n",
              "      <td>80</td>\n",
              "      <td>47</td>\n",
              "    </tr>\n",
              "    <tr>\n",
              "      <th>1</th>\n",
              "      <td>63</td>\n",
              "      <td>75</td>\n",
              "      <td>70</td>\n",
              "      <td>12</td>\n",
              "      <td>17</td>\n",
              "      <td>3</td>\n",
              "      <td>39</td>\n",
              "      <td>72</td>\n",
              "      <td>81</td>\n",
              "      <td>12</td>\n",
              "    </tr>\n",
              "    <tr>\n",
              "      <th>5</th>\n",
              "      <td>72</td>\n",
              "      <td>55</td>\n",
              "      <td>77</td>\n",
              "      <td>14</td>\n",
              "      <td>60</td>\n",
              "      <td>67</td>\n",
              "      <td>79</td>\n",
              "      <td>84</td>\n",
              "      <td>11</td>\n",
              "      <td>60</td>\n",
              "    </tr>\n",
              "    <tr>\n",
              "      <th>0</th>\n",
              "      <td>63</td>\n",
              "      <td>82</td>\n",
              "      <td>93</td>\n",
              "      <td>65</td>\n",
              "      <td>87</td>\n",
              "      <td>19</td>\n",
              "      <td>27</td>\n",
              "      <td>82</td>\n",
              "      <td>62</td>\n",
              "      <td>79</td>\n",
              "    </tr>\n",
              "  </tbody>\n",
              "</table>\n",
              "</div>"
            ],
            "text/plain": [
              "    a   b   c   d   e   f   g   g   h   i\n",
              "8  11   9  21  99  53  95   2  55  80  47\n",
              "1  63  75  70  12  17   3  39  72  81  12\n",
              "5  72  55  77  14  60  67  79  84  11  60\n",
              "0  63  82  93  65  87  19  27  82  62  79"
            ]
          },
          "metadata": {
            "tags": []
          },
          "execution_count": 34
        }
      ]
    },
    {
      "metadata": {
        "id": "hztnxawEu4hs",
        "colab_type": "code",
        "colab": {
          "base_uri": "https://localhost:8080/",
          "height": 235
        },
        "outputId": "14ed70a5-7fd8-4bad-b303-3b04d38ba324"
      },
      "cell_type": "code",
      "source": [
        "y_train"
      ],
      "execution_count": 35,
      "outputs": [
        {
          "output_type": "execute_result",
          "data": {
            "text/html": [
              "<div>\n",
              "<style scoped>\n",
              "    .dataframe tbody tr th:only-of-type {\n",
              "        vertical-align: middle;\n",
              "    }\n",
              "\n",
              "    .dataframe tbody tr th {\n",
              "        vertical-align: top;\n",
              "    }\n",
              "\n",
              "    .dataframe thead th {\n",
              "        text-align: right;\n",
              "    }\n",
              "</style>\n",
              "<table border=\"1\" class=\"dataframe\">\n",
              "  <thead>\n",
              "    <tr style=\"text-align: right;\">\n",
              "      <th></th>\n",
              "      <th>g</th>\n",
              "      <th>g</th>\n",
              "    </tr>\n",
              "  </thead>\n",
              "  <tbody>\n",
              "    <tr>\n",
              "      <th>7</th>\n",
              "      <td>42</td>\n",
              "      <td>69</td>\n",
              "    </tr>\n",
              "    <tr>\n",
              "      <th>2</th>\n",
              "      <td>5</td>\n",
              "      <td>84</td>\n",
              "    </tr>\n",
              "    <tr>\n",
              "      <th>9</th>\n",
              "      <td>60</td>\n",
              "      <td>82</td>\n",
              "    </tr>\n",
              "    <tr>\n",
              "      <th>4</th>\n",
              "      <td>54</td>\n",
              "      <td>13</td>\n",
              "    </tr>\n",
              "    <tr>\n",
              "      <th>3</th>\n",
              "      <td>27</td>\n",
              "      <td>28</td>\n",
              "    </tr>\n",
              "    <tr>\n",
              "      <th>6</th>\n",
              "      <td>88</td>\n",
              "      <td>1</td>\n",
              "    </tr>\n",
              "  </tbody>\n",
              "</table>\n",
              "</div>"
            ],
            "text/plain": [
              "    g   g\n",
              "7  42  69\n",
              "2   5  84\n",
              "9  60  82\n",
              "4  54  13\n",
              "3  27  28\n",
              "6  88   1"
            ]
          },
          "metadata": {
            "tags": []
          },
          "execution_count": 35
        }
      ]
    },
    {
      "metadata": {
        "id": "4V_p4X6Ku-i0",
        "colab_type": "code",
        "colab": {
          "base_uri": "https://localhost:8080/",
          "height": 173
        },
        "outputId": "d246b70d-e397-464c-bd64-2a53917dd333"
      },
      "cell_type": "code",
      "source": [
        " y_test"
      ],
      "execution_count": 36,
      "outputs": [
        {
          "output_type": "execute_result",
          "data": {
            "text/html": [
              "<div>\n",
              "<style scoped>\n",
              "    .dataframe tbody tr th:only-of-type {\n",
              "        vertical-align: middle;\n",
              "    }\n",
              "\n",
              "    .dataframe tbody tr th {\n",
              "        vertical-align: top;\n",
              "    }\n",
              "\n",
              "    .dataframe thead th {\n",
              "        text-align: right;\n",
              "    }\n",
              "</style>\n",
              "<table border=\"1\" class=\"dataframe\">\n",
              "  <thead>\n",
              "    <tr style=\"text-align: right;\">\n",
              "      <th></th>\n",
              "      <th>g</th>\n",
              "      <th>g</th>\n",
              "    </tr>\n",
              "  </thead>\n",
              "  <tbody>\n",
              "    <tr>\n",
              "      <th>8</th>\n",
              "      <td>2</td>\n",
              "      <td>55</td>\n",
              "    </tr>\n",
              "    <tr>\n",
              "      <th>1</th>\n",
              "      <td>39</td>\n",
              "      <td>72</td>\n",
              "    </tr>\n",
              "    <tr>\n",
              "      <th>5</th>\n",
              "      <td>79</td>\n",
              "      <td>84</td>\n",
              "    </tr>\n",
              "    <tr>\n",
              "      <th>0</th>\n",
              "      <td>27</td>\n",
              "      <td>82</td>\n",
              "    </tr>\n",
              "  </tbody>\n",
              "</table>\n",
              "</div>"
            ],
            "text/plain": [
              "    g   g\n",
              "8   2  55\n",
              "1  39  72\n",
              "5  79  84\n",
              "0  27  82"
            ]
          },
          "metadata": {
            "tags": []
          },
          "execution_count": 36
        }
      ]
    },
    {
      "metadata": {
        "id": "EOwjm_E2uiI3",
        "colab_type": "code",
        "colab": {
          "base_uri": "https://localhost:8080/",
          "height": 235
        },
        "outputId": "a3f74525-2ea2-4866-ded7-38a9d3aebfca"
      },
      "cell_type": "code",
      "source": [
        "X_train"
      ],
      "execution_count": 32,
      "outputs": [
        {
          "output_type": "execute_result",
          "data": {
            "text/html": [
              "<div>\n",
              "<style scoped>\n",
              "    .dataframe tbody tr th:only-of-type {\n",
              "        vertical-align: middle;\n",
              "    }\n",
              "\n",
              "    .dataframe tbody tr th {\n",
              "        vertical-align: top;\n",
              "    }\n",
              "\n",
              "    .dataframe thead th {\n",
              "        text-align: right;\n",
              "    }\n",
              "</style>\n",
              "<table border=\"1\" class=\"dataframe\">\n",
              "  <thead>\n",
              "    <tr style=\"text-align: right;\">\n",
              "      <th></th>\n",
              "      <th>a</th>\n",
              "      <th>b</th>\n",
              "      <th>c</th>\n",
              "      <th>d</th>\n",
              "      <th>e</th>\n",
              "      <th>f</th>\n",
              "      <th>g</th>\n",
              "      <th>g</th>\n",
              "      <th>h</th>\n",
              "      <th>i</th>\n",
              "    </tr>\n",
              "  </thead>\n",
              "  <tbody>\n",
              "    <tr>\n",
              "      <th>7</th>\n",
              "      <td>79</td>\n",
              "      <td>65</td>\n",
              "      <td>55</td>\n",
              "      <td>50</td>\n",
              "      <td>23</td>\n",
              "      <td>55</td>\n",
              "      <td>42</td>\n",
              "      <td>69</td>\n",
              "      <td>76</td>\n",
              "      <td>19</td>\n",
              "    </tr>\n",
              "    <tr>\n",
              "      <th>2</th>\n",
              "      <td>37</td>\n",
              "      <td>17</td>\n",
              "      <td>65</td>\n",
              "      <td>61</td>\n",
              "      <td>49</td>\n",
              "      <td>81</td>\n",
              "      <td>5</td>\n",
              "      <td>84</td>\n",
              "      <td>42</td>\n",
              "      <td>68</td>\n",
              "    </tr>\n",
              "    <tr>\n",
              "      <th>9</th>\n",
              "      <td>21</td>\n",
              "      <td>75</td>\n",
              "      <td>61</td>\n",
              "      <td>98</td>\n",
              "      <td>97</td>\n",
              "      <td>20</td>\n",
              "      <td>60</td>\n",
              "      <td>82</td>\n",
              "      <td>37</td>\n",
              "      <td>82</td>\n",
              "    </tr>\n",
              "    <tr>\n",
              "      <th>4</th>\n",
              "      <td>48</td>\n",
              "      <td>41</td>\n",
              "      <td>12</td>\n",
              "      <td>40</td>\n",
              "      <td>96</td>\n",
              "      <td>10</td>\n",
              "      <td>54</td>\n",
              "      <td>13</td>\n",
              "      <td>47</td>\n",
              "      <td>7</td>\n",
              "    </tr>\n",
              "    <tr>\n",
              "      <th>3</th>\n",
              "      <td>9</td>\n",
              "      <td>28</td>\n",
              "      <td>14</td>\n",
              "      <td>35</td>\n",
              "      <td>28</td>\n",
              "      <td>91</td>\n",
              "      <td>27</td>\n",
              "      <td>28</td>\n",
              "      <td>70</td>\n",
              "      <td>75</td>\n",
              "    </tr>\n",
              "    <tr>\n",
              "      <th>6</th>\n",
              "      <td>7</td>\n",
              "      <td>84</td>\n",
              "      <td>66</td>\n",
              "      <td>53</td>\n",
              "      <td>59</td>\n",
              "      <td>78</td>\n",
              "      <td>88</td>\n",
              "      <td>1</td>\n",
              "      <td>17</td>\n",
              "      <td>20</td>\n",
              "    </tr>\n",
              "  </tbody>\n",
              "</table>\n",
              "</div>"
            ],
            "text/plain": [
              "    a   b   c   d   e   f   g   g   h   i\n",
              "7  79  65  55  50  23  55  42  69  76  19\n",
              "2  37  17  65  61  49  81   5  84  42  68\n",
              "9  21  75  61  98  97  20  60  82  37  82\n",
              "4  48  41  12  40  96  10  54  13  47   7\n",
              "3   9  28  14  35  28  91  27  28  70  75\n",
              "6   7  84  66  53  59  78  88   1  17  20"
            ]
          },
          "metadata": {
            "tags": []
          },
          "execution_count": 32
        }
      ]
    },
    {
      "metadata": {
        "id": "FzUn4kFlurpN",
        "colab_type": "code",
        "colab": {
          "base_uri": "https://localhost:8080/",
          "height": 235
        },
        "outputId": "f157ac9a-b029-41de-f558-5bf3559671fa"
      },
      "cell_type": "code",
      "source": [
        "X_train"
      ],
      "execution_count": 33,
      "outputs": [
        {
          "output_type": "execute_result",
          "data": {
            "text/html": [
              "<div>\n",
              "<style scoped>\n",
              "    .dataframe tbody tr th:only-of-type {\n",
              "        vertical-align: middle;\n",
              "    }\n",
              "\n",
              "    .dataframe tbody tr th {\n",
              "        vertical-align: top;\n",
              "    }\n",
              "\n",
              "    .dataframe thead th {\n",
              "        text-align: right;\n",
              "    }\n",
              "</style>\n",
              "<table border=\"1\" class=\"dataframe\">\n",
              "  <thead>\n",
              "    <tr style=\"text-align: right;\">\n",
              "      <th></th>\n",
              "      <th>a</th>\n",
              "      <th>b</th>\n",
              "      <th>c</th>\n",
              "      <th>d</th>\n",
              "      <th>e</th>\n",
              "      <th>f</th>\n",
              "      <th>g</th>\n",
              "      <th>g</th>\n",
              "      <th>h</th>\n",
              "      <th>i</th>\n",
              "    </tr>\n",
              "  </thead>\n",
              "  <tbody>\n",
              "    <tr>\n",
              "      <th>7</th>\n",
              "      <td>79</td>\n",
              "      <td>65</td>\n",
              "      <td>55</td>\n",
              "      <td>50</td>\n",
              "      <td>23</td>\n",
              "      <td>55</td>\n",
              "      <td>42</td>\n",
              "      <td>69</td>\n",
              "      <td>76</td>\n",
              "      <td>19</td>\n",
              "    </tr>\n",
              "    <tr>\n",
              "      <th>2</th>\n",
              "      <td>37</td>\n",
              "      <td>17</td>\n",
              "      <td>65</td>\n",
              "      <td>61</td>\n",
              "      <td>49</td>\n",
              "      <td>81</td>\n",
              "      <td>5</td>\n",
              "      <td>84</td>\n",
              "      <td>42</td>\n",
              "      <td>68</td>\n",
              "    </tr>\n",
              "    <tr>\n",
              "      <th>9</th>\n",
              "      <td>21</td>\n",
              "      <td>75</td>\n",
              "      <td>61</td>\n",
              "      <td>98</td>\n",
              "      <td>97</td>\n",
              "      <td>20</td>\n",
              "      <td>60</td>\n",
              "      <td>82</td>\n",
              "      <td>37</td>\n",
              "      <td>82</td>\n",
              "    </tr>\n",
              "    <tr>\n",
              "      <th>4</th>\n",
              "      <td>48</td>\n",
              "      <td>41</td>\n",
              "      <td>12</td>\n",
              "      <td>40</td>\n",
              "      <td>96</td>\n",
              "      <td>10</td>\n",
              "      <td>54</td>\n",
              "      <td>13</td>\n",
              "      <td>47</td>\n",
              "      <td>7</td>\n",
              "    </tr>\n",
              "    <tr>\n",
              "      <th>3</th>\n",
              "      <td>9</td>\n",
              "      <td>28</td>\n",
              "      <td>14</td>\n",
              "      <td>35</td>\n",
              "      <td>28</td>\n",
              "      <td>91</td>\n",
              "      <td>27</td>\n",
              "      <td>28</td>\n",
              "      <td>70</td>\n",
              "      <td>75</td>\n",
              "    </tr>\n",
              "    <tr>\n",
              "      <th>6</th>\n",
              "      <td>7</td>\n",
              "      <td>84</td>\n",
              "      <td>66</td>\n",
              "      <td>53</td>\n",
              "      <td>59</td>\n",
              "      <td>78</td>\n",
              "      <td>88</td>\n",
              "      <td>1</td>\n",
              "      <td>17</td>\n",
              "      <td>20</td>\n",
              "    </tr>\n",
              "  </tbody>\n",
              "</table>\n",
              "</div>"
            ],
            "text/plain": [
              "    a   b   c   d   e   f   g   g   h   i\n",
              "7  79  65  55  50  23  55  42  69  76  19\n",
              "2  37  17  65  61  49  81   5  84  42  68\n",
              "9  21  75  61  98  97  20  60  82  37  82\n",
              "4  48  41  12  40  96  10  54  13  47   7\n",
              "3   9  28  14  35  28  91  27  28  70  75\n",
              "6   7  84  66  53  59  78  88   1  17  20"
            ]
          },
          "metadata": {
            "tags": []
          },
          "execution_count": 33
        }
      ]
    }
  ]
}